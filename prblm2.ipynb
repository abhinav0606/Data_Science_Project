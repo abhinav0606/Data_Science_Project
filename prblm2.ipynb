{
 "cells": [
  {
   "cell_type": "code",
   "execution_count": 41,
   "metadata": {},
   "outputs": [],
   "source": [
    "# trying to use bert nlp model\n",
    "import pandas as pd\n"
   ]
  },
  {
   "cell_type": "code",
   "execution_count": 42,
   "metadata": {},
   "outputs": [],
   "source": [
    "df=pd.read_excel(r\"C:\\Users\\abhin\\Desktop\\Projects\\Data_Science_CustomasizePvtLtd\\faqs.xlsx\")"
   ]
  },
  {
   "cell_type": "code",
   "execution_count": 43,
   "metadata": {},
   "outputs": [
    {
     "data": {
      "text/html": [
       "<div>\n",
       "<style scoped>\n",
       "    .dataframe tbody tr th:only-of-type {\n",
       "        vertical-align: middle;\n",
       "    }\n",
       "\n",
       "    .dataframe tbody tr th {\n",
       "        vertical-align: top;\n",
       "    }\n",
       "\n",
       "    .dataframe thead th {\n",
       "        text-align: right;\n",
       "    }\n",
       "</style>\n",
       "<table border=\"1\" class=\"dataframe\">\n",
       "  <thead>\n",
       "    <tr style=\"text-align: right;\">\n",
       "      <th></th>\n",
       "      <th>CATEGORY</th>\n",
       "      <th>TOPIC</th>\n",
       "      <th>INFO</th>\n",
       "    </tr>\n",
       "  </thead>\n",
       "  <tbody>\n",
       "    <tr>\n",
       "      <th>0</th>\n",
       "      <td>general</td>\n",
       "      <td>Will my policy divided in to 2 insurance company?</td>\n",
       "      <td>No</td>\n",
       "    </tr>\n",
       "    <tr>\n",
       "      <th>1</th>\n",
       "      <td>general</td>\n",
       "      <td>CWO is an Insurance Company?</td>\n",
       "      <td>No. CWO is not an insurance company and does n...</td>\n",
       "    </tr>\n",
       "    <tr>\n",
       "      <th>2</th>\n",
       "      <td>general</td>\n",
       "      <td>Who manages the Insurance Policy?</td>\n",
       "      <td>The Policy is serviced by the following three ...</td>\n",
       "    </tr>\n",
       "    <tr>\n",
       "      <th>3</th>\n",
       "      <td>general</td>\n",
       "      <td>Is CWO is making profits from the policies?</td>\n",
       "      <td>NO\\nCWO is not a profit making Organization an...</td>\n",
       "    </tr>\n",
       "    <tr>\n",
       "      <th>4</th>\n",
       "      <td>enrolment</td>\n",
       "      <td>What is the procedure to enroll into this Heal...</td>\n",
       "      <td>A member is required to visit the designated w...</td>\n",
       "    </tr>\n",
       "    <tr>\n",
       "      <th>...</th>\n",
       "      <td>...</td>\n",
       "      <td>...</td>\n",
       "      <td>...</td>\n",
       "    </tr>\n",
       "    <tr>\n",
       "      <th>94</th>\n",
       "      <td>reimbursement</td>\n",
       "      <td>How you ensure that there won’t be any hassle ...</td>\n",
       "      <td>We will provide 100% support in claim settleme...</td>\n",
       "    </tr>\n",
       "    <tr>\n",
       "      <th>95</th>\n",
       "      <td>policy</td>\n",
       "      <td>How many procedure are covered in Day Care t...</td>\n",
       "      <td>DAY CARE PROCEDURES: Covered under the policy,...</td>\n",
       "    </tr>\n",
       "    <tr>\n",
       "      <th>96</th>\n",
       "      <td>policy</td>\n",
       "      <td>Whether Health declaration is compulsory?</td>\n",
       "      <td>Yes, it is necessary to declare all existing a...</td>\n",
       "    </tr>\n",
       "    <tr>\n",
       "      <th>97</th>\n",
       "      <td>reimbursement</td>\n",
       "      <td>What are common reason of deduction / Repudia...</td>\n",
       "      <td>o Policy holder reasons: 1) Mistake in name / ...</td>\n",
       "    </tr>\n",
       "    <tr>\n",
       "      <th>98</th>\n",
       "      <td>general</td>\n",
       "      <td>Whom to approach in case of Grievances / Legal...</td>\n",
       "      <td>CWO will help in providing legal aid to its me...</td>\n",
       "    </tr>\n",
       "  </tbody>\n",
       "</table>\n",
       "<p>99 rows × 3 columns</p>\n",
       "</div>"
      ],
      "text/plain": [
       "         CATEGORY                                              TOPIC  \\\n",
       "0         general  Will my policy divided in to 2 insurance company?   \n",
       "1         general                       CWO is an Insurance Company?   \n",
       "2         general                  Who manages the Insurance Policy?   \n",
       "3         general        Is CWO is making profits from the policies?   \n",
       "4       enrolment  What is the procedure to enroll into this Heal...   \n",
       "..            ...                                                ...   \n",
       "94  reimbursement  How you ensure that there won’t be any hassle ...   \n",
       "95         policy    How many procedure are covered in Day Care t...   \n",
       "96         policy          Whether Health declaration is compulsory?   \n",
       "97  reimbursement   What are common reason of deduction / Repudia...   \n",
       "98        general  Whom to approach in case of Grievances / Legal...   \n",
       "\n",
       "                                                 INFO  \n",
       "0                                                  No  \n",
       "1   No. CWO is not an insurance company and does n...  \n",
       "2   The Policy is serviced by the following three ...  \n",
       "3   NO\\nCWO is not a profit making Organization an...  \n",
       "4   A member is required to visit the designated w...  \n",
       "..                                                ...  \n",
       "94  We will provide 100% support in claim settleme...  \n",
       "95  DAY CARE PROCEDURES: Covered under the policy,...  \n",
       "96  Yes, it is necessary to declare all existing a...  \n",
       "97  o Policy holder reasons: 1) Mistake in name / ...  \n",
       "98  CWO will help in providing legal aid to its me...  \n",
       "\n",
       "[99 rows x 3 columns]"
      ]
     },
     "execution_count": 43,
     "metadata": {},
     "output_type": "execute_result"
    }
   ],
   "source": [
    "df=df.dropna(axis=1)\n",
    "df"
   ]
  },
  {
   "cell_type": "code",
   "execution_count": 44,
   "metadata": {},
   "outputs": [],
   "source": [
    "def getResults(questions, fn):\n",
    "    def getResult(q):\n",
    "        answer, score, prediction = fn(q)\n",
    "        return([q, prediction, answer, score])\n",
    "\n",
    "    return(pd.DataFrame(list(map(getResult, questions)), columns=[\"TOPIC\", \"Prediction\", \"INFO\", \"Score\"]))"
   ]
  },
  {
   "cell_type": "code",
   "execution_count": 50,
   "metadata": {},
   "outputs": [],
   "source": [
    "test_data = [\n",
    "    # \"Who manages the  policy?\",\n",
    "    # \"How can i enroll?\",\n",
    "    # \"Can i know the procedure for renewal\",\n",
    "    # \"What is premium\",\n",
    "    \"Procedures covered in Day care treat?\"\n",
    "]"
   ]
  },
  {
   "cell_type": "code",
   "execution_count": 51,
   "metadata": {},
   "outputs": [
    {
     "data": {
      "text/html": [
       "<div>\n",
       "<style scoped>\n",
       "    .dataframe tbody tr th:only-of-type {\n",
       "        vertical-align: middle;\n",
       "    }\n",
       "\n",
       "    .dataframe tbody tr th {\n",
       "        vertical-align: top;\n",
       "    }\n",
       "\n",
       "    .dataframe thead th {\n",
       "        text-align: right;\n",
       "    }\n",
       "</style>\n",
       "<table border=\"1\" class=\"dataframe\">\n",
       "  <thead>\n",
       "    <tr style=\"text-align: right;\">\n",
       "      <th></th>\n",
       "      <th>TOPIC</th>\n",
       "      <th>Prediction</th>\n",
       "      <th>INFO</th>\n",
       "      <th>Score</th>\n",
       "    </tr>\n",
       "  </thead>\n",
       "  <tbody>\n",
       "    <tr>\n",
       "      <th>0</th>\n",
       "      <td>Procedures covered in Day care treat?</td>\n",
       "      <td>How many procedure are covered in Day Care t...</td>\n",
       "      <td>DAY CARE PROCEDURES: Covered under the policy,...</td>\n",
       "      <td>0.717391</td>\n",
       "    </tr>\n",
       "  </tbody>\n",
       "</table>\n",
       "</div>"
      ],
      "text/plain": [
       "                                   TOPIC  \\\n",
       "0  Procedures covered in Day care treat?   \n",
       "\n",
       "                                          Prediction  \\\n",
       "0    How many procedure are covered in Day Care t...   \n",
       "\n",
       "                                                INFO     Score  \n",
       "0  DAY CARE PROCEDURES: Covered under the policy,...  0.717391  "
      ]
     },
     "execution_count": 51,
     "metadata": {},
     "output_type": "execute_result"
    }
   ],
   "source": [
    "from Levenshtein import ratio\n",
    "def getApproximateAnswer(q):\n",
    "    max_score = 0\n",
    "    answer = \"\"\n",
    "    prediction = \"\"\n",
    "    for idx, row in df.iterrows():\n",
    "        score = ratio(row[\"TOPIC\"], q)\n",
    "        if score >= 0.8:  # I'm sure, stop here \n",
    "            return  row[\"INFO\"], score, row[\"TOPIC\"]\n",
    "        elif score > max_score: # I'm unsure, continue\n",
    "            max_score = score\n",
    "            answer = row[\"INFO\"]\n",
    "            prediction = row[\"TOPIC\"]\n",
    "\n",
    "    if max_score>=0.65:\n",
    "        return answer, max_score, prediction\n",
    "    return \"Sorry, I didn't get you.\", max_score, prediction\n",
    "\n",
    "getResults(test_data, getApproximateAnswer)"
   ]
  },
  {
   "cell_type": "code",
   "execution_count": 47,
   "metadata": {},
   "outputs": [],
   "source": [
    "import colorama\n",
    "colorama.init()\n",
    "from colorama import Fore,Style,Back"
   ]
  },
  {
   "cell_type": "code",
   "execution_count": null,
   "metadata": {},
   "outputs": [],
   "source": []
  },
  {
   "cell_type": "code",
   "execution_count": null,
   "metadata": {},
   "outputs": [],
   "source": []
  }
 ],
 "metadata": {
  "interpreter": {
   "hash": "8808760c2eafe3eda954e5aa1b2d4d4b467e8021e7096d9a20e762526b943792"
  },
  "kernelspec": {
   "display_name": "Python 3.9.1 64-bit",
   "name": "python3"
  },
  "language_info": {
   "codemirror_mode": {
    "name": "ipython",
    "version": 3
   },
   "file_extension": ".py",
   "mimetype": "text/x-python",
   "name": "python",
   "nbconvert_exporter": "python",
   "pygments_lexer": "ipython3",
   "version": "3.9.1"
  },
  "orig_nbformat": 4
 },
 "nbformat": 4,
 "nbformat_minor": 2
}
