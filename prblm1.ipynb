{
 "cells": [
  {
   "cell_type": "code",
   "execution_count": 1,
   "metadata": {},
   "outputs": [],
   "source": [
    "# Importing Libraries\n",
    "import pandas as pd\n",
    "import numpy as np\n",
    "import matplotlib.pyplot as plt"
   ]
  },
  {
   "cell_type": "code",
   "execution_count": 2,
   "metadata": {},
   "outputs": [],
   "source": [
    "# Importing Dataset\n",
    "df=pd.read_csv(r\"C:\\Users\\abhin\\Desktop\\Projects\\Data_Science_CustomasizePvtLtd\\hyderabad-salaried-employees.csv\")"
   ]
  },
  {
   "cell_type": "markdown",
   "metadata": {},
   "source": [
    "Removing all the rows which are having "
   ]
  },
  {
   "cell_type": "code",
   "execution_count": 4,
   "metadata": {},
   "outputs": [
    {
     "name": "stdout",
     "output_type": "stream",
     "text": [
      "28847\n"
     ]
    }
   ],
   "source": [
    "# Dropping all the Nan values because those columns i guess of no use for bcz no designation,salary,\n",
    "df=df.dropna()\n",
    "df.drop([\"candidateName\",\"emailAddress\",\"locationCurrentMas\",\"tel_Other\",\"Category\"],axis=1,inplace=True)\n"
   ]
  },
  {
   "cell_type": "markdown",
   "metadata": {},
   "source": [
    "Removing LACS and RS from salary column and replaced everything and converted to float type"
   ]
  },
  {
   "cell_type": "code",
   "execution_count": 5,
   "metadata": {},
   "outputs": [
    {
     "name": "stdout",
     "output_type": "stream",
     "text": [
      "10247\n"
     ]
    },
    {
     "name": "stderr",
     "output_type": "stream",
     "text": [
      "<ipython-input-5-5dfb653447d0>:1: FutureWarning: The default value of regex will change from True to False in a future version.\n",
      "  df['salary'] = df['salary'].str.replace('Rs. ','').str.replace('lacs','').astype('float')\n"
     ]
    }
   ],
   "source": [
    "df['salary'] = df['salary'].str.replace('Rs. ','').str.replace('lacs','').astype('float')\n",
    "print(len(df))\n",
    "df\n",
    "df['experienceMas']=df[\"experienceMas\"].str.replace(r'\\D+',\".\", regex=True).str.slice(0,-1)\n",
    "df.loc[:,\"experienceMas\"]=df.loc[:,\"experienceMas\"].str.split(\".\")\n"
   ]
  },
  {
   "cell_type": "code",
   "execution_count": 6,
   "metadata": {},
   "outputs": [
    {
     "data": {
      "text/html": [
       "<div>\n",
       "<style scoped>\n",
       "    .dataframe tbody tr th:only-of-type {\n",
       "        vertical-align: middle;\n",
       "    }\n",
       "\n",
       "    .dataframe tbody tr th {\n",
       "        vertical-align: top;\n",
       "    }\n",
       "\n",
       "    .dataframe thead th {\n",
       "        text-align: right;\n",
       "    }\n",
       "</style>\n",
       "<table border=\"1\" class=\"dataframe\">\n",
       "  <thead>\n",
       "    <tr style=\"text-align: right;\">\n",
       "      <th></th>\n",
       "      <th>companyName</th>\n",
       "      <th>designation</th>\n",
       "      <th>experienceMas</th>\n",
       "      <th>qualificationMas</th>\n",
       "      <th>qualificationMas2</th>\n",
       "      <th>salary</th>\n",
       "    </tr>\n",
       "  </thead>\n",
       "  <tbody>\n",
       "    <tr>\n",
       "      <th>1</th>\n",
       "      <td>APOLLO HOSPITALS ENTERPRISES LIMITED</td>\n",
       "      <td>SENIOR EXECUTIVE-OPERATIONS</td>\n",
       "      <td>[5, 9]</td>\n",
       "      <td>MBA/ PGDM</td>\n",
       "      <td>B.Pharm. (Pharmacy)</td>\n",
       "      <td>5.00</td>\n",
       "    </tr>\n",
       "    <tr>\n",
       "      <th>4</th>\n",
       "      <td>CTS</td>\n",
       "      <td>Associate Projects</td>\n",
       "      <td>[6, 8]</td>\n",
       "      <td>B.Com. (Commerce)</td>\n",
       "      <td>MCA/ PGDCA</td>\n",
       "      <td>8.05</td>\n",
       "    </tr>\n",
       "    <tr>\n",
       "      <th>6</th>\n",
       "      <td>Bank Of America</td>\n",
       "      <td>Assistant Manager NonVoice Operations</td>\n",
       "      <td>[11, 4]</td>\n",
       "      <td>MBA/ PGDM</td>\n",
       "      <td>B.Com. (Commerce)</td>\n",
       "      <td>8.33</td>\n",
       "    </tr>\n",
       "    <tr>\n",
       "      <th>11</th>\n",
       "      <td>Telenor</td>\n",
       "      <td>territory sales manger</td>\n",
       "      <td>[6]</td>\n",
       "      <td>B.Com. (Commerce)</td>\n",
       "      <td>MBA/ PGDM</td>\n",
       "      <td>5.00</td>\n",
       "    </tr>\n",
       "    <tr>\n",
       "      <th>21</th>\n",
       "      <td>Tata Consultancy Services Ltd</td>\n",
       "      <td>Project Leader/ Tech Lead</td>\n",
       "      <td>[10, 3]</td>\n",
       "      <td>ME/ M.Tech./ MS (Engg/ Sciences)</td>\n",
       "      <td>BE/ B.Tech (Engineering)</td>\n",
       "      <td>16.03</td>\n",
       "    </tr>\n",
       "    <tr>\n",
       "      <th>...</th>\n",
       "      <td>...</td>\n",
       "      <td>...</td>\n",
       "      <td>...</td>\n",
       "      <td>...</td>\n",
       "      <td>...</td>\n",
       "      <td>...</td>\n",
       "    </tr>\n",
       "    <tr>\n",
       "      <th>28826</th>\n",
       "      <td>Dr. Reddys Laboratories Ltd</td>\n",
       "      <td>Scientist</td>\n",
       "      <td>[9]</td>\n",
       "      <td>B.Sc. (Science)</td>\n",
       "      <td>M.Sc. (Science)</td>\n",
       "      <td>9.20</td>\n",
       "    </tr>\n",
       "    <tr>\n",
       "      <th>28831</th>\n",
       "      <td>Deloitte Support Services India Pvt Ltd</td>\n",
       "      <td>Manager</td>\n",
       "      <td>[16]</td>\n",
       "      <td>B.Sc. (Science)</td>\n",
       "      <td>MBA/ PGDM</td>\n",
       "      <td>20.00</td>\n",
       "    </tr>\n",
       "    <tr>\n",
       "      <th>28834</th>\n",
       "      <td>franklin templeton asset management india pvt ...</td>\n",
       "      <td>Sr. Associate / Team Lead</td>\n",
       "      <td>[8, 2]</td>\n",
       "      <td>B.Com. (Commerce)</td>\n",
       "      <td>MBA/ PGDM</td>\n",
       "      <td>7.10</td>\n",
       "    </tr>\n",
       "    <tr>\n",
       "      <th>28839</th>\n",
       "      <td>Honeywell Technology Solutions Lab Pvt Ltd</td>\n",
       "      <td>Software engineer</td>\n",
       "      <td>[1, 3]</td>\n",
       "      <td>BE/ B.Tech (Engineering)</td>\n",
       "      <td>ME/ M.Tech./ MS (Engg/ Sciences)</td>\n",
       "      <td>8.00</td>\n",
       "    </tr>\n",
       "    <tr>\n",
       "      <th>28845</th>\n",
       "      <td>Religare Enterprises</td>\n",
       "      <td>Business Analyst</td>\n",
       "      <td>[5, 8]</td>\n",
       "      <td>BE/ B.Tech (Engineering)</td>\n",
       "      <td>12th &amp; Not Pursuing Graduation</td>\n",
       "      <td>5.05</td>\n",
       "    </tr>\n",
       "  </tbody>\n",
       "</table>\n",
       "<p>10247 rows × 6 columns</p>\n",
       "</div>"
      ],
      "text/plain": [
       "                                             companyName  \\\n",
       "1                  APOLLO HOSPITALS ENTERPRISES LIMITED    \n",
       "4                                                   CTS    \n",
       "6                                       Bank Of America    \n",
       "11                                              Telenor    \n",
       "21                        Tata Consultancy Services Ltd    \n",
       "...                                                  ...   \n",
       "28826                       Dr. Reddys Laboratories Ltd    \n",
       "28831           Deloitte Support Services India Pvt Ltd    \n",
       "28834  franklin templeton asset management india pvt ...   \n",
       "28839        Honeywell Technology Solutions Lab Pvt Ltd    \n",
       "28845                              Religare Enterprises    \n",
       "\n",
       "                                 designation experienceMas  \\\n",
       "1                SENIOR EXECUTIVE-OPERATIONS        [5, 9]   \n",
       "4                         Associate Projects        [6, 8]   \n",
       "6      Assistant Manager NonVoice Operations       [11, 4]   \n",
       "11                    territory sales manger           [6]   \n",
       "21                 Project Leader/ Tech Lead       [10, 3]   \n",
       "...                                      ...           ...   \n",
       "28826                              Scientist           [9]   \n",
       "28831                                Manager          [16]   \n",
       "28834              Sr. Associate / Team Lead        [8, 2]   \n",
       "28839                      Software engineer        [1, 3]   \n",
       "28845                       Business Analyst        [5, 8]   \n",
       "\n",
       "                       qualificationMas                 qualificationMas2  \\\n",
       "1                             MBA/ PGDM               B.Pharm. (Pharmacy)   \n",
       "4                     B.Com. (Commerce)                        MCA/ PGDCA   \n",
       "6                             MBA/ PGDM                 B.Com. (Commerce)   \n",
       "11                    B.Com. (Commerce)                         MBA/ PGDM   \n",
       "21     ME/ M.Tech./ MS (Engg/ Sciences)          BE/ B.Tech (Engineering)   \n",
       "...                                 ...                               ...   \n",
       "28826                   B.Sc. (Science)                   M.Sc. (Science)   \n",
       "28831                   B.Sc. (Science)                         MBA/ PGDM   \n",
       "28834                 B.Com. (Commerce)                         MBA/ PGDM   \n",
       "28839          BE/ B.Tech (Engineering)  ME/ M.Tech./ MS (Engg/ Sciences)   \n",
       "28845          BE/ B.Tech (Engineering)    12th & Not Pursuing Graduation   \n",
       "\n",
       "       salary  \n",
       "1        5.00  \n",
       "4        8.05  \n",
       "6        8.33  \n",
       "11       5.00  \n",
       "21      16.03  \n",
       "...       ...  \n",
       "28826    9.20  \n",
       "28831   20.00  \n",
       "28834    7.10  \n",
       "28839    8.00  \n",
       "28845    5.05  \n",
       "\n",
       "[10247 rows x 6 columns]"
      ]
     },
     "execution_count": 6,
     "metadata": {},
     "output_type": "execute_result"
    }
   ],
   "source": [
    "df"
   ]
  },
  {
   "cell_type": "code",
   "execution_count": 7,
   "metadata": {},
   "outputs": [
    {
     "name": "stderr",
     "output_type": "stream",
     "text": [
      "<ipython-input-7-77631b95296a>:3: SettingWithCopyWarning: \n",
      "A value is trying to be set on a copy of a slice from a DataFrame\n",
      "\n",
      "See the caveats in the documentation: https://pandas.pydata.org/pandas-docs/stable/user_guide/indexing.html#returning-a-view-versus-a-copy\n",
      "  df[\"experienceMas\"][i]=int(df[\"experienceMas\"][i][0])*12+int(df[\"experienceMas\"][i][1])\n",
      "<ipython-input-7-77631b95296a>:7: SettingWithCopyWarning: \n",
      "A value is trying to be set on a copy of a slice from a DataFrame\n",
      "\n",
      "See the caveats in the documentation: https://pandas.pydata.org/pandas-docs/stable/user_guide/indexing.html#returning-a-view-versus-a-copy\n",
      "  df[\"experienceMas\"][i]=int(df[\"experienceMas\"][i][0])*12\n",
      "<ipython-input-7-77631b95296a>:5: SettingWithCopyWarning: \n",
      "A value is trying to be set on a copy of a slice from a DataFrame\n",
      "\n",
      "See the caveats in the documentation: https://pandas.pydata.org/pandas-docs/stable/user_guide/indexing.html#returning-a-view-versus-a-copy\n",
      "  df[\"experienceMas\"][i]=0\n"
     ]
    }
   ],
   "source": [
    "for i in df.index:\n",
    "    if len(df[\"experienceMas\"][i])==2:\n",
    "        df[\"experienceMas\"][i]=int(df[\"experienceMas\"][i][0])*12+int(df[\"experienceMas\"][i][1])\n",
    "    elif df[\"experienceMas\"][i]==['']:\n",
    "        df[\"experienceMas\"][i]=0\n",
    "    else:\n",
    "        df[\"experienceMas\"][i]=int(df[\"experienceMas\"][i][0])*12\n",
    "    # print(df[i])\n"
   ]
  },
  {
   "cell_type": "code",
   "execution_count": 8,
   "metadata": {},
   "outputs": [
    {
     "data": {
      "text/html": [
       "<div>\n",
       "<style scoped>\n",
       "    .dataframe tbody tr th:only-of-type {\n",
       "        vertical-align: middle;\n",
       "    }\n",
       "\n",
       "    .dataframe tbody tr th {\n",
       "        vertical-align: top;\n",
       "    }\n",
       "\n",
       "    .dataframe thead th {\n",
       "        text-align: right;\n",
       "    }\n",
       "</style>\n",
       "<table border=\"1\" class=\"dataframe\">\n",
       "  <thead>\n",
       "    <tr style=\"text-align: right;\">\n",
       "      <th></th>\n",
       "      <th>companyName</th>\n",
       "      <th>designation</th>\n",
       "      <th>experienceMas</th>\n",
       "      <th>qualificationMas</th>\n",
       "      <th>qualificationMas2</th>\n",
       "      <th>salary</th>\n",
       "    </tr>\n",
       "  </thead>\n",
       "  <tbody>\n",
       "    <tr>\n",
       "      <th>1</th>\n",
       "      <td>APOLLO HOSPITALS ENTERPRISES LIMITED</td>\n",
       "      <td>SENIOR EXECUTIVE-OPERATIONS</td>\n",
       "      <td>69</td>\n",
       "      <td>MBA/ PGDM</td>\n",
       "      <td>B.Pharm. (Pharmacy)</td>\n",
       "      <td>5.00</td>\n",
       "    </tr>\n",
       "    <tr>\n",
       "      <th>4</th>\n",
       "      <td>CTS</td>\n",
       "      <td>Associate Projects</td>\n",
       "      <td>80</td>\n",
       "      <td>B.Com. (Commerce)</td>\n",
       "      <td>MCA/ PGDCA</td>\n",
       "      <td>8.05</td>\n",
       "    </tr>\n",
       "    <tr>\n",
       "      <th>6</th>\n",
       "      <td>Bank Of America</td>\n",
       "      <td>Assistant Manager NonVoice Operations</td>\n",
       "      <td>136</td>\n",
       "      <td>MBA/ PGDM</td>\n",
       "      <td>B.Com. (Commerce)</td>\n",
       "      <td>8.33</td>\n",
       "    </tr>\n",
       "    <tr>\n",
       "      <th>11</th>\n",
       "      <td>Telenor</td>\n",
       "      <td>territory sales manger</td>\n",
       "      <td>72</td>\n",
       "      <td>B.Com. (Commerce)</td>\n",
       "      <td>MBA/ PGDM</td>\n",
       "      <td>5.00</td>\n",
       "    </tr>\n",
       "    <tr>\n",
       "      <th>21</th>\n",
       "      <td>Tata Consultancy Services Ltd</td>\n",
       "      <td>Project Leader/ Tech Lead</td>\n",
       "      <td>123</td>\n",
       "      <td>ME/ M.Tech./ MS (Engg/ Sciences)</td>\n",
       "      <td>BE/ B.Tech (Engineering)</td>\n",
       "      <td>16.03</td>\n",
       "    </tr>\n",
       "    <tr>\n",
       "      <th>...</th>\n",
       "      <td>...</td>\n",
       "      <td>...</td>\n",
       "      <td>...</td>\n",
       "      <td>...</td>\n",
       "      <td>...</td>\n",
       "      <td>...</td>\n",
       "    </tr>\n",
       "    <tr>\n",
       "      <th>28826</th>\n",
       "      <td>Dr. Reddys Laboratories Ltd</td>\n",
       "      <td>Scientist</td>\n",
       "      <td>108</td>\n",
       "      <td>B.Sc. (Science)</td>\n",
       "      <td>M.Sc. (Science)</td>\n",
       "      <td>9.20</td>\n",
       "    </tr>\n",
       "    <tr>\n",
       "      <th>28831</th>\n",
       "      <td>Deloitte Support Services India Pvt Ltd</td>\n",
       "      <td>Manager</td>\n",
       "      <td>192</td>\n",
       "      <td>B.Sc. (Science)</td>\n",
       "      <td>MBA/ PGDM</td>\n",
       "      <td>20.00</td>\n",
       "    </tr>\n",
       "    <tr>\n",
       "      <th>28834</th>\n",
       "      <td>franklin templeton asset management india pvt ...</td>\n",
       "      <td>Sr. Associate / Team Lead</td>\n",
       "      <td>98</td>\n",
       "      <td>B.Com. (Commerce)</td>\n",
       "      <td>MBA/ PGDM</td>\n",
       "      <td>7.10</td>\n",
       "    </tr>\n",
       "    <tr>\n",
       "      <th>28839</th>\n",
       "      <td>Honeywell Technology Solutions Lab Pvt Ltd</td>\n",
       "      <td>Software engineer</td>\n",
       "      <td>15</td>\n",
       "      <td>BE/ B.Tech (Engineering)</td>\n",
       "      <td>ME/ M.Tech./ MS (Engg/ Sciences)</td>\n",
       "      <td>8.00</td>\n",
       "    </tr>\n",
       "    <tr>\n",
       "      <th>28845</th>\n",
       "      <td>Religare Enterprises</td>\n",
       "      <td>Business Analyst</td>\n",
       "      <td>68</td>\n",
       "      <td>BE/ B.Tech (Engineering)</td>\n",
       "      <td>12th &amp; Not Pursuing Graduation</td>\n",
       "      <td>5.05</td>\n",
       "    </tr>\n",
       "  </tbody>\n",
       "</table>\n",
       "<p>10247 rows × 6 columns</p>\n",
       "</div>"
      ],
      "text/plain": [
       "                                             companyName  \\\n",
       "1                  APOLLO HOSPITALS ENTERPRISES LIMITED    \n",
       "4                                                   CTS    \n",
       "6                                       Bank Of America    \n",
       "11                                              Telenor    \n",
       "21                        Tata Consultancy Services Ltd    \n",
       "...                                                  ...   \n",
       "28826                       Dr. Reddys Laboratories Ltd    \n",
       "28831           Deloitte Support Services India Pvt Ltd    \n",
       "28834  franklin templeton asset management india pvt ...   \n",
       "28839        Honeywell Technology Solutions Lab Pvt Ltd    \n",
       "28845                              Religare Enterprises    \n",
       "\n",
       "                                 designation experienceMas  \\\n",
       "1                SENIOR EXECUTIVE-OPERATIONS            69   \n",
       "4                         Associate Projects            80   \n",
       "6      Assistant Manager NonVoice Operations           136   \n",
       "11                    territory sales manger            72   \n",
       "21                 Project Leader/ Tech Lead           123   \n",
       "...                                      ...           ...   \n",
       "28826                              Scientist           108   \n",
       "28831                                Manager           192   \n",
       "28834              Sr. Associate / Team Lead            98   \n",
       "28839                      Software engineer            15   \n",
       "28845                       Business Analyst            68   \n",
       "\n",
       "                       qualificationMas                 qualificationMas2  \\\n",
       "1                             MBA/ PGDM               B.Pharm. (Pharmacy)   \n",
       "4                     B.Com. (Commerce)                        MCA/ PGDCA   \n",
       "6                             MBA/ PGDM                 B.Com. (Commerce)   \n",
       "11                    B.Com. (Commerce)                         MBA/ PGDM   \n",
       "21     ME/ M.Tech./ MS (Engg/ Sciences)          BE/ B.Tech (Engineering)   \n",
       "...                                 ...                               ...   \n",
       "28826                   B.Sc. (Science)                   M.Sc. (Science)   \n",
       "28831                   B.Sc. (Science)                         MBA/ PGDM   \n",
       "28834                 B.Com. (Commerce)                         MBA/ PGDM   \n",
       "28839          BE/ B.Tech (Engineering)  ME/ M.Tech./ MS (Engg/ Sciences)   \n",
       "28845          BE/ B.Tech (Engineering)    12th & Not Pursuing Graduation   \n",
       "\n",
       "       salary  \n",
       "1        5.00  \n",
       "4        8.05  \n",
       "6        8.33  \n",
       "11       5.00  \n",
       "21      16.03  \n",
       "...       ...  \n",
       "28826    9.20  \n",
       "28831   20.00  \n",
       "28834    7.10  \n",
       "28839    8.00  \n",
       "28845    5.05  \n",
       "\n",
       "[10247 rows x 6 columns]"
      ]
     },
     "execution_count": 8,
     "metadata": {},
     "output_type": "execute_result"
    }
   ],
   "source": [
    "df"
   ]
  },
  {
   "cell_type": "code",
   "execution_count": 9,
   "metadata": {},
   "outputs": [],
   "source": [
    "# from sklearn.preprocessing import OneHotEncoder\n",
    "# from sklearn.compose import ColumnTransformer\n",
    "# X=df.iloc[:,:].values\n",
    "# print(X)\n",
    "# ct = ColumnTransformer(transformers=[('encoder', OneHotEncoder(), [0])], remainder='passthrough')\n",
    "# X = np.array(ct.fit_transform(X))\n",
    "# print(X)"
   ]
  },
  {
   "cell_type": "code",
   "execution_count": 10,
   "metadata": {},
   "outputs": [
    {
     "data": {
      "image/png": "[encoded data removed]",
      "text/plain": [
       "<Figure size 864x432 with 1 Axes>"
      ]
     },
     "metadata": {
      "needs_background": "light"
     },
     "output_type": "display_data"
    }
   ],
   "source": [
    "from sklearn.cluster import KMeans\n",
    "wcss = []\n",
    "for k in range(1,11):\n",
    "    kmeans = KMeans(n_clusters=k, init=\"k-means++\")\n",
    "    kmeans.fit(df.iloc[:,[2,-1]])\n",
    "    wcss.append(kmeans.inertia_)\n",
    "plt.figure(figsize=(12,6))    \n",
    "plt.grid()\n",
    "plt.plot(range(1,11),wcss, linewidth=2, color=\"red\", marker =\"8\")\n",
    "plt.xlabel(\"K Value\")\n",
    "plt.xticks(np.arange(1,11,1))\n",
    "plt.ylabel(\"WCSS\")\n",
    "plt.show()"
   ]
  },
  {
   "cell_type": "code",
   "execution_count": 11,
   "metadata": {},
   "outputs": [
    {
     "name": "stdout",
     "output_type": "stream",
     "text": [
      "      experienceMas  salary\n",
      "1                69    5.00\n",
      "4                80    8.05\n",
      "6               136    8.33\n",
      "11               72    5.00\n",
      "21              123   16.03\n",
      "...             ...     ...\n",
      "28826           108    9.20\n",
      "28831           192   20.00\n",
      "28834            98    7.10\n",
      "28839            15    8.00\n",
      "28845            68    5.05\n",
      "\n",
      "[10247 rows x 2 columns]\n"
     ]
    },
    {
     "data": {
      "image/png": "[encoded data removed]",
      "text/plain": [
       "<Figure size 1440x720 with 1 Axes>"
      ]
     },
     "metadata": {
      "needs_background": "light"
     },
     "output_type": "display_data"
    }
   ],
   "source": [
    "km = KMeans(n_clusters=5,init=\"k-means++\",random_state=42)\n",
    "clusters = km.fit_predict(df.iloc[:,[2,-1]])\n",
    "print(df.iloc[:,[2,-1]])\n",
    "df[\"Salary_Experience\"] = clusters\n",
    "from mpl_toolkits.mplot3d import Axes3D\n",
    "import matplotlib.pyplot as plt\n",
    "import numpy as np\n",
    "import pandas as pd\n",
    "fig = plt.figure(figsize=(20,10))\n",
    "# ax = fig.add_subplot(111, projection='2d')\n",
    "plt.scatter(df.experienceMas[df.Salary_Experience == 0], df[\"salary\"][df.Salary_Experience == 0], c='blue', s=60)\n",
    "plt.scatter(df.experienceMas[df.Salary_Experience == 1], df[\"salary\"][df.Salary_Experience == 1], c='red', s=60)\n",
    "plt.scatter(df.experienceMas[df.Salary_Experience == 2], df[\"salary\"][df.Salary_Experience == 2], c='green', s=60)\n",
    "plt.scatter(df.experienceMas[df.Salary_Experience == 3], df[\"salary\"][df.Salary_Experience == 3], c='orange', s=60)\n",
    "plt.scatter(df.experienceMas[df.Salary_Experience == 4], df[\"salary\"][df.Salary_Experience == 4], c='purple', s=60)\n",
    "# plt.view_init(30, 185)\n",
    "plt.xlabel(\"Experience\")\n",
    "plt.ylabel(\"Salary\")\n",
    "# ax.set_zlabel('Spending Score (1-100)')\n",
    "plt.show()"
   ]
  },
  {
   "cell_type": "markdown",
   "metadata": {},
   "source": [
    "The Clustering is done on the basis of Experience and salary.I have used K-means Clustering and the number of cluster is 5."
   ]
  },
  {
   "cell_type": "code",
   "execution_count": null,
   "metadata": {},
   "outputs": [],
   "source": []
  },
  {
   "cell_type": "code",
   "execution_count": 12,
   "metadata": {},
   "outputs": [
    {
     "name": "stdout",
     "output_type": "stream",
     "text": [
      "[['APOLLO HOSPITALS ENTERPRISES LIMITED ' 5.0]\n",
      " ['CTS ' 8.05]\n",
      " ['Bank Of America ' 8.33]\n",
      " ...\n",
      " ['franklin templeton asset management india pvt ltd ' 7.1]\n",
      " ['Honeywell Technology Solutions Lab Pvt Ltd ' 8.0]\n",
      " ['Religare Enterprises ' 5.05]]\n"
     ]
    },
    {
     "data": {
      "text/plain": [
       "array([[122, 5.0],\n",
       "       [976, 8.05],\n",
       "       [710, 8.33],\n",
       "       ...,\n",
       "       [6063, 7.1],\n",
       "       [2408, 8.0],\n",
       "       [4490, 5.05]], dtype=object)"
      ]
     },
     "execution_count": 12,
     "metadata": {},
     "output_type": "execute_result"
    }
   ],
   "source": [
    "X=df.iloc[:,[0,5]].values\n",
    "print(X)\n",
    "from sklearn.preprocessing import LabelEncoder\n",
    "le = LabelEncoder()\n",
    "X[:,0] = le.fit_transform(X[:,0])\n",
    "X"
   ]
  },
  {
   "cell_type": "code",
   "execution_count": 13,
   "metadata": {},
   "outputs": [
    {
     "data": {
      "image/png": "[encoded data removed]",
      "text/plain": [
       "<Figure size 864x432 with 1 Axes>"
      ]
     },
     "metadata": {
      "needs_background": "light"
     },
     "output_type": "display_data"
    }
   ],
   "source": [
    "from sklearn.cluster import KMeans\n",
    "wcss = []\n",
    "for k in range(1,11):\n",
    "    kmeans = KMeans(n_clusters=k, init=\"k-means++\")\n",
    "    kmeans.fit(X)\n",
    "    wcss.append(kmeans.inertia_)\n",
    "plt.figure(figsize=(12,6))    \n",
    "plt.grid()\n",
    "plt.plot(range(1,11),wcss, linewidth=2, color=\"red\", marker =\"8\")\n",
    "plt.xlabel(\"K Value\")\n",
    "plt.xticks(np.arange(1,11,1))\n",
    "plt.ylabel(\"WCSS\")\n",
    "plt.show()"
   ]
  },
  {
   "cell_type": "markdown",
   "metadata": {},
   "source": []
  },
  {
   "cell_type": "code",
   "execution_count": 16,
   "metadata": {},
   "outputs": [
    {
     "data": {
      "image/png": "[encoded data removed]",
      "text/plain": [
       "<Figure size 1440x1440 with 1 Axes>"
      ]
     },
     "metadata": {
      "needs_background": "light"
     },
     "output_type": "display_data"
    }
   ],
   "source": [
    "km = KMeans(n_clusters=5,init=\"k-means++\",random_state=42)\n",
    "X=pd.DataFrame(X,columns=[\"companyName\",\"salary\"])\n",
    "clusters = km.fit_predict(X)\n",
    "X[\"Company_Salary\"]=clusters\n",
    "df[\"Company_Salary\"] = clusters\n",
    "from mpl_toolkits.mplot3d import Axes3D\n",
    "import matplotlib.pyplot as plt\n",
    "import matplotlib\n",
    "import numpy as np\n",
    "import pandas as pd\n",
    "fig1 = plt.figure(figsize=(20,20))\n",
    "# ax = fig.add_subplot(111, projection='2d')\n",
    "plt.scatter(X.companyName[X.Company_Salary == 0], X[\"salary\"][X.Company_Salary == 0], c='blue', s=60)\n",
    "\n",
    "plt.scatter(X.companyName[X.Company_Salary == 1], X[\"salary\"][X.Company_Salary == 1], c='red', s=60)\n",
    "plt.scatter(X.companyName[X.Company_Salary == 2], X[\"salary\"][X.Company_Salary == 2], c='green', s=60)\n",
    "plt.scatter(X.companyName[X.Company_Salary == 3], X[\"salary\"][X.Company_Salary == 3], c='orange', s=60)\n",
    "plt.scatter(X.companyName[X.Company_Salary == 4], X[\"salary\"][X.Company_Salary == 4], c='purple', s=60)\n",
    "\n",
    "# plt.view_init(30, 185)\n",
    "plt.xlabel(\"Company\")\n",
    "plt.ylabel(\"Salary\")\n",
    "# ax.set_zlabel('Spending Score (1-100)')\n",
    "plt.show()"
   ]
  },
  {
   "cell_type": "code",
   "execution_count": 27,
   "metadata": {},
   "outputs": [
    {
     "name": "stdout",
     "output_type": "stream",
     "text": [
      "['territory sales manger' 5.0]\n",
      "['SENIOR EXECUTIVE-OPERATIONS' 5.0]\n"
     ]
    },
    {
     "data": {
      "text/html": [
       "<div>\n",
       "<style scoped>\n",
       "    .dataframe tbody tr th:only-of-type {\n",
       "        vertical-align: middle;\n",
       "    }\n",
       "\n",
       "    .dataframe tbody tr th {\n",
       "        vertical-align: top;\n",
       "    }\n",
       "\n",
       "    .dataframe thead th {\n",
       "        text-align: right;\n",
       "    }\n",
       "</style>\n",
       "<table border=\"1\" class=\"dataframe\">\n",
       "  <thead>\n",
       "    <tr style=\"text-align: right;\">\n",
       "      <th></th>\n",
       "      <th>designation</th>\n",
       "      <th>salary</th>\n",
       "    </tr>\n",
       "  </thead>\n",
       "  <tbody>\n",
       "    <tr>\n",
       "      <th>0</th>\n",
       "      <td>3869</td>\n",
       "      <td>5.0</td>\n",
       "    </tr>\n",
       "    <tr>\n",
       "      <th>1</th>\n",
       "      <td>740</td>\n",
       "      <td>8.05</td>\n",
       "    </tr>\n",
       "    <tr>\n",
       "      <th>2</th>\n",
       "      <td>554</td>\n",
       "      <td>8.33</td>\n",
       "    </tr>\n",
       "    <tr>\n",
       "      <th>3</th>\n",
       "      <td>6049</td>\n",
       "      <td>5.0</td>\n",
       "    </tr>\n",
       "    <tr>\n",
       "      <th>4</th>\n",
       "      <td>3494</td>\n",
       "      <td>16.03</td>\n",
       "    </tr>\n",
       "    <tr>\n",
       "      <th>...</th>\n",
       "      <td>...</td>\n",
       "      <td>...</td>\n",
       "    </tr>\n",
       "    <tr>\n",
       "      <th>10242</th>\n",
       "      <td>4036</td>\n",
       "      <td>9.2</td>\n",
       "    </tr>\n",
       "    <tr>\n",
       "      <th>10243</th>\n",
       "      <td>2705</td>\n",
       "      <td>20.0</td>\n",
       "    </tr>\n",
       "    <tr>\n",
       "      <th>10244</th>\n",
       "      <td>4873</td>\n",
       "      <td>7.1</td>\n",
       "    </tr>\n",
       "    <tr>\n",
       "      <th>10245</th>\n",
       "      <td>4680</td>\n",
       "      <td>8.0</td>\n",
       "    </tr>\n",
       "    <tr>\n",
       "      <th>10246</th>\n",
       "      <td>1031</td>\n",
       "      <td>5.05</td>\n",
       "    </tr>\n",
       "  </tbody>\n",
       "</table>\n",
       "<p>10247 rows × 2 columns</p>\n",
       "</div>"
      ],
      "text/plain": [
       "      designation salary\n",
       "0            3869    5.0\n",
       "1             740   8.05\n",
       "2             554   8.33\n",
       "3            6049    5.0\n",
       "4            3494  16.03\n",
       "...           ...    ...\n",
       "10242        4036    9.2\n",
       "10243        2705   20.0\n",
       "10244        4873    7.1\n",
       "10245        4680    8.0\n",
       "10246        1031   5.05\n",
       "\n",
       "[10247 rows x 2 columns]"
      ]
     },
     "execution_count": 27,
     "metadata": {},
     "output_type": "execute_result"
    }
   ],
   "source": [
    "X=df.iloc[:,[1,5]].values\n",
    "print(X[3])\n",
    "print(X[0])\n",
    "# from sklearn.compose import ColumnTransformer\n",
    "# from sklearn.preprocessing import OneHotEncoder\n",
    "# ct = ColumnTransformer(transformers=[('encoder', OneHotEncoder(), [0])], remainder='passthrough')\n",
    "# x = np.array(ct.fit_transform(X))\n",
    "from sklearn.preprocessing import LabelEncoder\n",
    "le = LabelEncoder()\n",
    "X[:,0] = le.fit_transform(X[:,0])\n",
    "X\n",
    "X=pd.DataFrame(X,columns=[\"designation\",\"salary\"])\n",
    "X"
   ]
  },
  {
   "cell_type": "code",
   "execution_count": 28,
   "metadata": {},
   "outputs": [
    {
     "data": {
      "image/png": "[encoded data removed]",
      "text/plain": [
       "<Figure size 864x432 with 1 Axes>"
      ]
     },
     "metadata": {
      "needs_background": "light"
     },
     "output_type": "display_data"
    }
   ],
   "source": [
    "from sklearn.cluster import KMeans\n",
    "wcss = []\n",
    "for k in range(1,11):\n",
    "    kmeans = KMeans(n_clusters=k, init=\"k-means++\")\n",
    "    kmeans.fit(X)\n",
    "    wcss.append(kmeans.inertia_)\n",
    "plt.figure(figsize=(12,6))    \n",
    "plt.grid()\n",
    "plt.plot(range(1,11),wcss, linewidth=2, color=\"red\", marker =\"8\")\n",
    "plt.xlabel(\"K Value\")\n",
    "plt.xticks(np.arange(1,11,1))\n",
    "plt.ylabel(\"WCSS\")\n",
    "plt.show()"
   ]
  },
  {
   "cell_type": "code",
   "execution_count": 30,
   "metadata": {},
   "outputs": [
    {
     "data": {
      "image/png": "[encoded data removed]",
      "text/plain": [
       "<Figure size 1440x1440 with 1 Axes>"
      ]
     },
     "metadata": {
      "needs_background": "light"
     },
     "output_type": "display_data"
    }
   ],
   "source": [
    "km = KMeans(n_clusters=5,init=\"k-means++\",random_state=42)\n",
    "clusters = km.fit_predict(X)\n",
    "X[\"Designation_Salary\"]=clusters\n",
    "df[\"Designation_Salary\"] = clusters\n",
    "from mpl_toolkits.mplot3d import Axes3D\n",
    "import matplotlib.pyplot as plt\n",
    "import matplotlib\n",
    "import numpy as np\n",
    "import pandas as pd\n",
    "fig1 = plt.figure(figsize=(20,20))\n",
    "# ax = fig.add_subplot(111, projection='2d')\n",
    "plt.scatter(X.designation[X.Designation_Salary == 0], X[\"salary\"][X.Designation_Salary == 0], c='blue', s=60)\n",
    "\n",
    "plt.scatter(X.designation[X.Designation_Salary == 1], X[\"salary\"][X.Designation_Salary == 1], c='red', s=60)\n",
    "plt.scatter(X.designation[X.Designation_Salary == 2], X[\"salary\"][X.Designation_Salary == 2], c='green', s=60)\n",
    "plt.scatter(X.designation[X.Designation_Salary == 3], X[\"salary\"][X.Designation_Salary == 3], c='orange', s=60)\n",
    "plt.scatter(X.designation[X.Designation_Salary == 4], X[\"salary\"][X.Designation_Salary == 4], c='purple', s=60)\n",
    "\n",
    "# plt.view_init(30, 185)\n",
    "plt.xlabel(\"Designation\")\n",
    "plt.ylabel(\"Salary\")\n",
    "# ax.set_zlabel('Spending Score (1-100)')\n",
    "plt.show()"
   ]
  },
  {
   "cell_type": "code",
   "execution_count": 36,
   "metadata": {},
   "outputs": [
    {
     "data": {
      "text/plain": [
       "903.0"
      ]
     },
     "execution_count": 36,
     "metadata": {},
     "output_type": "execute_result"
    }
   ],
   "source": [
    "df.salary.max()"
   ]
  },
  {
   "cell_type": "code",
   "execution_count": 37,
   "metadata": {},
   "outputs": [
    {
     "data": {
      "text/plain": [
       "'zonal manager '"
      ]
     },
     "execution_count": 37,
     "metadata": {},
     "output_type": "execute_result"
    }
   ],
   "source": [
    "df.designation.max()"
   ]
  },
  {
   "cell_type": "code",
   "execution_count": 38,
   "metadata": {},
   "outputs": [
    {
     "data": {
      "text/html": [
       "<div>\n",
       "<style scoped>\n",
       "    .dataframe tbody tr th:only-of-type {\n",
       "        vertical-align: middle;\n",
       "    }\n",
       "\n",
       "    .dataframe tbody tr th {\n",
       "        vertical-align: top;\n",
       "    }\n",
       "\n",
       "    .dataframe thead th {\n",
       "        text-align: right;\n",
       "    }\n",
       "</style>\n",
       "<table border=\"1\" class=\"dataframe\">\n",
       "  <thead>\n",
       "    <tr style=\"text-align: right;\">\n",
       "      <th></th>\n",
       "      <th>companyName</th>\n",
       "      <th>designation</th>\n",
       "      <th>experienceMas</th>\n",
       "      <th>qualificationMas</th>\n",
       "      <th>qualificationMas2</th>\n",
       "      <th>salary</th>\n",
       "      <th>Salary_Experience</th>\n",
       "      <th>Company_Salary</th>\n",
       "      <th>Designation_Salary</th>\n",
       "    </tr>\n",
       "  </thead>\n",
       "  <tbody>\n",
       "    <tr>\n",
       "      <th>1</th>\n",
       "      <td>APOLLO HOSPITALS ENTERPRISES LIMITED</td>\n",
       "      <td>SENIOR EXECUTIVE-OPERATIONS</td>\n",
       "      <td>69</td>\n",
       "      <td>MBA/ PGDM</td>\n",
       "      <td>B.Pharm. (Pharmacy)</td>\n",
       "      <td>5.00</td>\n",
       "      <td>0</td>\n",
       "      <td>0</td>\n",
       "      <td>4</td>\n",
       "    </tr>\n",
       "    <tr>\n",
       "      <th>4</th>\n",
       "      <td>CTS</td>\n",
       "      <td>Associate Projects</td>\n",
       "      <td>80</td>\n",
       "      <td>B.Com. (Commerce)</td>\n",
       "      <td>MCA/ PGDCA</td>\n",
       "      <td>8.05</td>\n",
       "      <td>0</td>\n",
       "      <td>4</td>\n",
       "      <td>3</td>\n",
       "    </tr>\n",
       "    <tr>\n",
       "      <th>6</th>\n",
       "      <td>Bank Of America</td>\n",
       "      <td>Assistant Manager NonVoice Operations</td>\n",
       "      <td>136</td>\n",
       "      <td>MBA/ PGDM</td>\n",
       "      <td>B.Com. (Commerce)</td>\n",
       "      <td>8.33</td>\n",
       "      <td>1</td>\n",
       "      <td>0</td>\n",
       "      <td>3</td>\n",
       "    </tr>\n",
       "    <tr>\n",
       "      <th>11</th>\n",
       "      <td>Telenor</td>\n",
       "      <td>territory sales manger</td>\n",
       "      <td>72</td>\n",
       "      <td>B.Com. (Commerce)</td>\n",
       "      <td>MBA/ PGDM</td>\n",
       "      <td>5.00</td>\n",
       "      <td>0</td>\n",
       "      <td>1</td>\n",
       "      <td>1</td>\n",
       "    </tr>\n",
       "    <tr>\n",
       "      <th>21</th>\n",
       "      <td>Tata Consultancy Services Ltd</td>\n",
       "      <td>Project Leader/ Tech Lead</td>\n",
       "      <td>123</td>\n",
       "      <td>ME/ M.Tech./ MS (Engg/ Sciences)</td>\n",
       "      <td>BE/ B.Tech (Engineering)</td>\n",
       "      <td>16.03</td>\n",
       "      <td>1</td>\n",
       "      <td>1</td>\n",
       "      <td>2</td>\n",
       "    </tr>\n",
       "    <tr>\n",
       "      <th>...</th>\n",
       "      <td>...</td>\n",
       "      <td>...</td>\n",
       "      <td>...</td>\n",
       "      <td>...</td>\n",
       "      <td>...</td>\n",
       "      <td>...</td>\n",
       "      <td>...</td>\n",
       "      <td>...</td>\n",
       "      <td>...</td>\n",
       "    </tr>\n",
       "    <tr>\n",
       "      <th>28826</th>\n",
       "      <td>Dr. Reddys Laboratories Ltd</td>\n",
       "      <td>Scientist</td>\n",
       "      <td>108</td>\n",
       "      <td>B.Sc. (Science)</td>\n",
       "      <td>M.Sc. (Science)</td>\n",
       "      <td>9.20</td>\n",
       "      <td>1</td>\n",
       "      <td>4</td>\n",
       "      <td>4</td>\n",
       "    </tr>\n",
       "    <tr>\n",
       "      <th>28831</th>\n",
       "      <td>Deloitte Support Services India Pvt Ltd</td>\n",
       "      <td>Manager</td>\n",
       "      <td>192</td>\n",
       "      <td>B.Sc. (Science)</td>\n",
       "      <td>MBA/ PGDM</td>\n",
       "      <td>20.00</td>\n",
       "      <td>4</td>\n",
       "      <td>4</td>\n",
       "      <td>2</td>\n",
       "    </tr>\n",
       "    <tr>\n",
       "      <th>28834</th>\n",
       "      <td>franklin templeton asset management india pvt ...</td>\n",
       "      <td>Sr. Associate / Team Lead</td>\n",
       "      <td>98</td>\n",
       "      <td>B.Com. (Commerce)</td>\n",
       "      <td>MBA/ PGDM</td>\n",
       "      <td>7.10</td>\n",
       "      <td>1</td>\n",
       "      <td>1</td>\n",
       "      <td>1</td>\n",
       "    </tr>\n",
       "    <tr>\n",
       "      <th>28839</th>\n",
       "      <td>Honeywell Technology Solutions Lab Pvt Ltd</td>\n",
       "      <td>Software engineer</td>\n",
       "      <td>15</td>\n",
       "      <td>BE/ B.Tech (Engineering)</td>\n",
       "      <td>ME/ M.Tech./ MS (Engg/ Sciences)</td>\n",
       "      <td>8.00</td>\n",
       "      <td>0</td>\n",
       "      <td>2</td>\n",
       "      <td>4</td>\n",
       "    </tr>\n",
       "    <tr>\n",
       "      <th>28845</th>\n",
       "      <td>Religare Enterprises</td>\n",
       "      <td>Business Analyst</td>\n",
       "      <td>68</td>\n",
       "      <td>BE/ B.Tech (Engineering)</td>\n",
       "      <td>12th &amp; Not Pursuing Graduation</td>\n",
       "      <td>5.05</td>\n",
       "      <td>0</td>\n",
       "      <td>3</td>\n",
       "      <td>3</td>\n",
       "    </tr>\n",
       "  </tbody>\n",
       "</table>\n",
       "<p>10247 rows × 9 columns</p>\n",
       "</div>"
      ],
      "text/plain": [
       "                                             companyName  \\\n",
       "1                  APOLLO HOSPITALS ENTERPRISES LIMITED    \n",
       "4                                                   CTS    \n",
       "6                                       Bank Of America    \n",
       "11                                              Telenor    \n",
       "21                        Tata Consultancy Services Ltd    \n",
       "...                                                  ...   \n",
       "28826                       Dr. Reddys Laboratories Ltd    \n",
       "28831           Deloitte Support Services India Pvt Ltd    \n",
       "28834  franklin templeton asset management india pvt ...   \n",
       "28839        Honeywell Technology Solutions Lab Pvt Ltd    \n",
       "28845                              Religare Enterprises    \n",
       "\n",
       "                                 designation experienceMas  \\\n",
       "1                SENIOR EXECUTIVE-OPERATIONS            69   \n",
       "4                         Associate Projects            80   \n",
       "6      Assistant Manager NonVoice Operations           136   \n",
       "11                    territory sales manger            72   \n",
       "21                 Project Leader/ Tech Lead           123   \n",
       "...                                      ...           ...   \n",
       "28826                              Scientist           108   \n",
       "28831                                Manager           192   \n",
       "28834              Sr. Associate / Team Lead            98   \n",
       "28839                      Software engineer            15   \n",
       "28845                       Business Analyst            68   \n",
       "\n",
       "                       qualificationMas                 qualificationMas2  \\\n",
       "1                             MBA/ PGDM               B.Pharm. (Pharmacy)   \n",
       "4                     B.Com. (Commerce)                        MCA/ PGDCA   \n",
       "6                             MBA/ PGDM                 B.Com. (Commerce)   \n",
       "11                    B.Com. (Commerce)                         MBA/ PGDM   \n",
       "21     ME/ M.Tech./ MS (Engg/ Sciences)          BE/ B.Tech (Engineering)   \n",
       "...                                 ...                               ...   \n",
       "28826                   B.Sc. (Science)                   M.Sc. (Science)   \n",
       "28831                   B.Sc. (Science)                         MBA/ PGDM   \n",
       "28834                 B.Com. (Commerce)                         MBA/ PGDM   \n",
       "28839          BE/ B.Tech (Engineering)  ME/ M.Tech./ MS (Engg/ Sciences)   \n",
       "28845          BE/ B.Tech (Engineering)    12th & Not Pursuing Graduation   \n",
       "\n",
       "       salary  Salary_Experience  Company_Salary  Designation_Salary  \n",
       "1        5.00                  0               0                   4  \n",
       "4        8.05                  0               4                   3  \n",
       "6        8.33                  1               0                   3  \n",
       "11       5.00                  0               1                   1  \n",
       "21      16.03                  1               1                   2  \n",
       "...       ...                ...             ...                 ...  \n",
       "28826    9.20                  1               4                   4  \n",
       "28831   20.00                  4               4                   2  \n",
       "28834    7.10                  1               1                   1  \n",
       "28839    8.00                  0               2                   4  \n",
       "28845    5.05                  0               3                   3  \n",
       "\n",
       "[10247 rows x 9 columns]"
      ]
     },
     "execution_count": 38,
     "metadata": {},
     "output_type": "execute_result"
    }
   ],
   "source": [
    "df"
   ]
  },
  {
   "cell_type": "code",
   "execution_count": null,
   "metadata": {},
   "outputs": [],
   "source": []
  }
 ],
 "metadata": {
  "interpreter": {
   "hash": "8808760c2eafe3eda954e5aa1b2d4d4b467e8021e7096d9a20e762526b943792"
  },
  "kernelspec": {
   "display_name": "Python 3.9.1 64-bit",
   "name": "python3"
  },
  "language_info": {
   "codemirror_mode": {
    "name": "ipython",
    "version": 3
   },
   "file_extension": ".py",
   "mimetype": "text/x-python",
   "name": "python",
   "nbconvert_exporter": "python",
   "pygments_lexer": "ipython3",
   "version": "3.9.1"
  },
  "orig_nbformat": 4
 },
 "nbformat": 4,
 "nbformat_minor": 2
}
